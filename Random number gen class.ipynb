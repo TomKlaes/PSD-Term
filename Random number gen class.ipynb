{
 "cells": [
  {
   "cell_type": "code",
   "execution_count": 25,
   "metadata": {},
   "outputs": [],
   "source": [
    "import random\n",
    "class randomintgen:\n",
    "\n",
    "    def gen(self,amount,minRange,maxRange):\n",
    "        for item in amount,minRange,maxRange:\n",
    "        \tif not isinstance(item, int) :\n",
    "\t\t        raise TypeError('Please make sure all inputs are integers')\n",
    "        if amount > 100:\n",
    "            raise TypeError(\"Please lower your amount\")\n",
    "        result=random.choices(range(minRange,maxRange), weights = None, k = amount)\n",
    "        if isinstance(result,list):\n",
    "            if len(result)==amount:\n",
    "                return result\n",
    "        else:\n",
    "            raise TypeError(\"Unexpected output format\")\n",
    "\n",
    "\n"
   ]
  },
  {
   "cell_type": "code",
   "execution_count": 26,
   "metadata": {},
   "outputs": [],
   "source": [
    "test=randomintgen()"
   ]
  },
  {
   "cell_type": "code",
   "execution_count": 27,
   "metadata": {},
   "outputs": [
    {
     "data": {
      "text/plain": [
       "[32, 35, 34, 42, 38, 48, 31, 46, 31, 29]"
      ]
     },
     "execution_count": 27,
     "metadata": {},
     "output_type": "execute_result"
    }
   ],
   "source": [
    "test.gen(10,20,50)"
   ]
  },
  {
   "cell_type": "code",
   "execution_count": null,
   "metadata": {},
   "outputs": [],
   "source": []
  }
 ],
 "metadata": {
  "kernelspec": {
   "display_name": "Python 3.8.8 ('base')",
   "language": "python",
   "name": "python3"
  },
  "language_info": {
   "codemirror_mode": {
    "name": "ipython",
    "version": 3
   },
   "file_extension": ".py",
   "mimetype": "text/x-python",
   "name": "python",
   "nbconvert_exporter": "python",
   "pygments_lexer": "ipython3",
   "version": "3.8.8"
  },
  "orig_nbformat": 4,
  "vscode": {
   "interpreter": {
    "hash": "01f254512d14d34559dc809aebfeb31549e3c03bc32b6ffffafcf4b3087a72e3"
   }
  }
 },
 "nbformat": 4,
 "nbformat_minor": 2
}
